{
 "cells": [
  {
   "cell_type": "code",
   "execution_count": 1,
   "metadata": {
    "collapsed": true
   },
   "outputs": [],
   "source": [
    "import numpy as np"
   ]
  },
  {
   "cell_type": "code",
   "execution_count": 2,
   "outputs": [
    {
     "name": "stdout",
     "output_type": "stream",
     "text": [
      "GPS X Standard Deviation:  0.7139549237774065\n",
      "IMU X Standard Deviation:  0.5120362893152798\n"
     ]
    }
   ],
   "source": [
    "gps_x = np.loadtxt('./data/scenario6-gps-log.txt', delimiter=',', skiprows=1)[:,1]\n",
    "acc_x = np.loadtxt('./data/scenario6-imu-log.txt', delimiter=',', skiprows=1)[:,1]\n",
    "\n",
    "print('GPS X Standard Deviation: ', np.std(gps_x))\n",
    "print('IMU X Standard Deviation: ', np.std(acc_x))"
   ],
   "metadata": {
    "collapsed": false
   }
  },
  {
   "cell_type": "code",
   "execution_count": 2,
   "outputs": [],
   "source": [],
   "metadata": {
    "collapsed": false
   }
  }
 ],
 "metadata": {
  "kernelspec": {
   "display_name": "Python 3",
   "language": "python",
   "name": "python3"
  },
  "language_info": {
   "codemirror_mode": {
    "name": "ipython",
    "version": 2
   },
   "file_extension": ".py",
   "mimetype": "text/x-python",
   "name": "python",
   "nbconvert_exporter": "python",
   "pygments_lexer": "ipython2",
   "version": "2.7.6"
  }
 },
 "nbformat": 4,
 "nbformat_minor": 0
}
